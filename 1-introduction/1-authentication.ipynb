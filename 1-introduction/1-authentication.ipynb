{
 "cells": [
  {
   "cell_type": "markdown",
   "id": "9c198c79",
   "metadata": {},
   "source": [
    "# Troubleshooting Authentication with DefaultAzureCredential\n",
    "\n",
    "## Overview\n",
    "\n",
    "DefaultAzureCredential is the recommended way to handle authentication in Azure applications. It provides a streamlined authentication flow by trying multiple credential types in sequence until one succeeds. This notebook will help you troubleshoot common authentication issues and ensure proper setup.\n",
    "\n",
    "## Understanding DefaultAzureCredential\n",
    "\n",
    "DefaultAzureCredential attempts authentication methods in the following order:\n",
    "\n",
    "1. Environment Credentials\n",
    "2. Workload Identity (in Kubernetes)\n",
    "3. Managed Identity\n",
    "4. Azure CLI Credentials\n",
    "5. Azure PowerShell Credentials\n",
    "6. Visual Studio Code Credentials\n",
    "7. Interactive Browser Authentication (as fallback)\n",
    "\n",
    "## Prerequisites\n",
    "\n",
    "Ensure you have the following installed:\n",
    "- Azure CLI\n",
    "- Azure Developer CLI (optional)\n",
    "- Python Virtual Environment or Conda (use `uv venv` or `conda create`)\n",
    "- Required role assignments (Azure AI Developer)\n",
    "- Jupyter Notebook environment - kernel configured to use Python 3.8 or later\n"
   ]
  },
  {
   "cell_type": "markdown",
   "id": "18f7cb3d",
   "metadata": {},
   "source": [
    "# First, we'll authenticate using Azure CLI\n",
    "This is the recommended approach for local development.\n",
    "\n",
    "When you run the code below, you will be redirected to:\n",
    "- Either the Azure portal in your browser to complete the login \n",
    "- Or use Windows login if you're already signed in to your machine\n",
    "\n",
    "The code will:\n",
    "1. Load environment variables from .env file, including the TENANT_ID\n",
    "2. Use Azure CLI to log in to your specific tenant  \n",
    "3. Test authentication by attempting to get a token\n"
   ]
  },
  {
   "cell_type": "code",
   "execution_count": null,
   "id": "23fe28d8",
   "metadata": {},
   "outputs": [],
   "source": [
    "# Import required packages\n",
    "from IPython.display import display\n",
    "from IPython.display import HTML\n",
    "import getpass\n",
    "from dotenv import load_dotenv\n",
    "import os\n",
    "from pathlib import Path  # For cross-platform path handling\n",
    "\n",
    "# Get the path to the .env file which is in the parent directory\n",
    "notebook_path = Path().absolute()  # Get absolute path of current notebook\n",
    "parent_dir = notebook_path.parent  # Get parent directory\n",
    "load_dotenv(parent_dir / '.env')  # Load environment variables from .env file\n",
    "\n",
    "# Get tenant ID from environment variable\n",
    "tenant_id = os.getenv(\"TENANT_ID\")\n",
    "\n",
    "# Azure login with specific tenant\n",
    "!az login --tenant {tenant_id}\n",
    "\n",
    "# Get subscription ID from connection string\n",
    "conn_str = os.getenv(\"PROJECT_CONNECTION_STRING\")\n",
    "subscription_id = conn_str.split(';')[1] if conn_str else None\n",
    "\n",
    "if subscription_id:\n",
    "    # Set the subscription\n",
    "    !az account set --subscription {subscription_id}\n",
    "    print(f\"✓ Successfully set subscription: {subscription_id}\")\n",
    "else:\n",
    "    print(\"⚠️ Could not get subscription ID from PROJECT_CONNECTION_STRING\")\n"
   ]
  },
  {
   "cell_type": "markdown",
   "id": "44c3458a",
   "metadata": {},
   "source": [
    "# Next, we'll test the authentication by attempting to get a token using AzureCliCredential\n",
    "\n",
    "AzureCliCredential will try multiple authentication methods in this order:\n",
    "1. Environment credentials (if environment variables are set)\n",
    "2. Managed Identity credentials (if running in Azure)\n",
    "3. Shared Token Cache credentials (from previous logins) \n",
    "4. Visual Studio Code credentials (if using VS Code)\n",
    "5. Azure CLI credentials (which we just set up)\n",
    "\n",
    "The code below will:\n",
    "1. Create a AzureCliCredential instance\n",
    "2. Try to get a token for Azure Cognitive Services\n",
    "3. Print success message if token is acquired\n",
    "\n",
    ">Note: You may see some warning/error messages as it tries different authentication methods - \n",
    ">this is normal and can be ignored as long as you see \"Successfully acquired token!\" at the end\n"
   ]
  },
  {
   "cell_type": "code",
   "execution_count": null,
   "id": "f9140263",
   "metadata": {},
   "outputs": [],
   "source": [
    "# Then use AzureCliCredential in your code\n",
    "from azure.identity import AzureCliCredential\n",
    "from azure.core.credentials import AccessToken\n",
    "import logging\n",
    "\n",
    "# Enable detailed logging\n",
    "logging.basicConfig(level=logging.DEBUG)\n",
    "\n",
    "try:\n",
    "    credential = AzureCliCredential()\n",
    "    # Test token acquisition\n",
    "    token = credential.get_token(\"https://cognitiveservices.azure.com/.default\")\n",
    "    print(\"Successfully acquired token!\")\n",
    "except Exception as e:\n",
    "    print(f\"Authentication failed: {str(e)}\")"
   ]
  },
  {
   "cell_type": "markdown",
   "id": "5ad83ef2",
   "metadata": {},
   "source": [
    "## Now that you have successfully authenticated, you can proceed to [2-environment_setup.ipynb](2-environment_setup.ipynb), or try the additional authentication methods or troubleshoot below.\n"
   ]
  },
  {
   "cell_type": "markdown",
   "id": "57658b99",
   "metadata": {},
   "source": [
    "## Common Issues and Solutions\n",
    "\n",
    "1. **Token Acquisition Failed**\n",
    "   - Verify Azure CLI login: `az login --tenant <tenant-id>`\n",
    "   - Check default subscription: `az account show`\n",
    "   - Ensure correct tenant: `az account set --subscription <subscription-id>`\n",
    "\n",
    "2. **Missing Role Assignments**\n",
    "   - Add Azure AI Developer role:\n",
    "   ```bash\n",
    "   az role assignment create --assignee \"user@domain.com\" \\\n",
    "       --role \"Azure AI Developer\" \\\n",
    "       --scope \"/subscriptions/<subscription-id>/resourceGroups/<resource-group>/providers/Microsoft.CognitiveServices/accounts/<resource-name>\"\n",
    "   ```\n",
    "\n",
    "3. **Environment Variable Issues**\n",
    "   - Verify environment variables are set correctly\n",
    "   - Check for typos in variable names\n",
    "   - Ensure no extra spaces in values\n",
    "\n",
    "## Best Practices\n",
    "\n",
    "1. Always use environment variables for service principal credentials\n",
    "2. Implement proper error handling and logging\n",
    "3. Use managed identities when deploying to Azure services\n",
    "4. Regularly rotate service principal secrets\n",
    "5. Follow the principle of least privilege when assigning roles\n",
    "\n",
    "## Additional Resources\n",
    "\n",
    "- [Azure Identity Documentation](https://docs.microsoft.com/python/api/overview/azure/identity-readme)\n",
    "- [DefaultAzureCredential Authentication Flow](https://docs.microsoft.com/azure/developer/python/azure-sdk-authenticate)\n",
    "- [Azure RBAC Documentation](https://docs.microsoft.com/azure/role-based-access-control/overview)"
   ]
  }
 ],
 "metadata": {
  "kernelspec": {
   "display_name": ".venv",
   "language": "python",
   "name": "python3"
  },
  "language_info": {
   "codemirror_mode": {
    "name": "ipython",
    "version": 3
   },
   "file_extension": ".py",
   "mimetype": "text/x-python",
   "name": "python",
   "nbconvert_exporter": "python",
   "pygments_lexer": "ipython3",
   "version": "3.11.11"
  }
 },
 "nbformat": 4,
 "nbformat_minor": 5
}
